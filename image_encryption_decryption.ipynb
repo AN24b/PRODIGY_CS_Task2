{
 "cells": [
  {
   "cell_type": "code",
   "execution_count": 1,
   "id": "d79805a8",
   "metadata": {},
   "outputs": [],
   "source": [
    "from tkinter import *\n",
    "from tkinter import filedialog"
   ]
  },
  {
   "cell_type": "code",
   "execution_count": 2,
   "id": "59bfa966",
   "metadata": {},
   "outputs": [
    {
     "data": {
      "text/plain": [
       "''"
      ]
     },
     "execution_count": 2,
     "metadata": {},
     "output_type": "execute_result"
    }
   ],
   "source": [
    "root=Tk()\n",
    "root.geometry(\"280x200\")"
   ]
  },
  {
   "cell_type": "code",
   "execution_count": 3,
   "id": "073c30d4",
   "metadata": {},
   "outputs": [],
   "source": [
    "def encrypt_image():\n",
    "    file1=filedialog.askopenfile(mode='r',filetype=[('png file','*.png')])\n",
    "    if file1 is not None:\n",
    "       # print(file1)\n",
    "        file_name=file1.name\n",
    "        #print(file_name)\n",
    "        key=entry1.get(1.0,END)\n",
    "        print(file_name,key)\n",
    "        fi=open(file_name,'rb')\n",
    "        image=fi.read()\n",
    "        fi.close()\n",
    "        image=bytearray(image)\n",
    "        for index,values in enumerate(image):\n",
    "            image[index]=values^int(key)\n",
    "        fi1=open(file_name,'wb')\n",
    "        fi1.write(image)\n",
    "        fi1.close()"
   ]
  },
  {
   "cell_type": "code",
   "execution_count": 4,
   "id": "857cf3da",
   "metadata": {},
   "outputs": [],
   "source": [
    "b1=Button(root,bg='yellow',text=\"select image to encrypt\",command =encrypt_image)\n",
    "b1.place(x=70,y=80)"
   ]
  },
  {
   "cell_type": "code",
   "execution_count": 5,
   "id": "10ea5329",
   "metadata": {},
   "outputs": [],
   "source": [
    "entry1=Text(root,height=1,width=10)\n",
    "entry1.place(x=100,y=50)"
   ]
  },
  {
   "cell_type": "code",
   "execution_count": 6,
   "id": "7d45eeeb",
   "metadata": {},
   "outputs": [
    {
     "name": "stdout",
     "output_type": "stream",
     "text": [
      "C:/Users/Dell/OneDrive/Pictures/Screenshots/cs_logo.png 5\n",
      "\n",
      "C:/Users/Dell/OneDrive/Pictures/Screenshots/cs_logo.png 5\n",
      "\n"
     ]
    }
   ],
   "source": [
    "root.mainloop()"
   ]
  },
  {
   "cell_type": "code",
   "execution_count": null,
   "id": "b3f967fe",
   "metadata": {},
   "outputs": [],
   "source": []
  }
 ],
 "metadata": {
  "kernelspec": {
   "display_name": "Python 3 (ipykernel)",
   "language": "python",
   "name": "python3"
  },
  "language_info": {
   "codemirror_mode": {
    "name": "ipython",
    "version": 3
   },
   "file_extension": ".py",
   "mimetype": "text/x-python",
   "name": "python",
   "nbconvert_exporter": "python",
   "pygments_lexer": "ipython3",
   "version": "3.11.5"
  }
 },
 "nbformat": 4,
 "nbformat_minor": 5
}
